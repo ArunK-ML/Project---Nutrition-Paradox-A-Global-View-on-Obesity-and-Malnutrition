{
  "nbformat": 4,
  "nbformat_minor": 0,
  "metadata": {
    "colab": {
      "provenance": [],
      "authorship_tag": "ABX9TyNzQ9ol3necwMoHh1IpOywS",
      "include_colab_link": true
    },
    "kernelspec": {
      "name": "python3",
      "display_name": "Python 3"
    },
    "language_info": {
      "name": "python"
    }
  },
  "cells": [
    {
      "cell_type": "markdown",
      "metadata": {
        "id": "view-in-github",
        "colab_type": "text"
      },
      "source": [
        "<a href=\"https://colab.research.google.com/github/ArunK-ML/Project---Nutrition-Paradox-A-Global-View-on-Obesity-and-Malnutrition/blob/main/Nutrition_Paradox_Streamlit_Final.ipynb\" target=\"_parent\"><img src=\"https://colab.research.google.com/assets/colab-badge.svg\" alt=\"Open In Colab\"/></a>"
      ]
    },
    {
      "cell_type": "markdown",
      "source": [
        "# **Streamlit**"
      ],
      "metadata": {
        "id": "01VlwIntMZUo"
      }
    },
    {
      "cell_type": "code",
      "source": [
        "!pip install mysql-connector-python"
      ],
      "metadata": {
        "colab": {
          "base_uri": "https://localhost:8080/"
        },
        "id": "yYv2kNh8KWeg",
        "outputId": "17494f11-724d-4f21-be22-ae006afd2d31"
      },
      "execution_count": null,
      "outputs": [
        {
          "output_type": "stream",
          "name": "stdout",
          "text": [
            "Collecting mysql-connector-python\n",
            "  Downloading mysql_connector_python-9.4.0-cp311-cp311-manylinux_2_28_x86_64.whl.metadata (7.3 kB)\n",
            "Downloading mysql_connector_python-9.4.0-cp311-cp311-manylinux_2_28_x86_64.whl (33.9 MB)\n",
            "\u001b[2K   \u001b[90m━━━━━━━━━━━━━━━━━━━━━━━━━━━━━━━━━━━━━━━━\u001b[0m \u001b[32m33.9/33.9 MB\u001b[0m \u001b[31m25.3 MB/s\u001b[0m eta \u001b[36m0:00:00\u001b[0m\n",
            "\u001b[?25hInstalling collected packages: mysql-connector-python\n",
            "Successfully installed mysql-connector-python-9.4.0\n"
          ]
        }
      ]
    },
    {
      "cell_type": "code",
      "source": [
        "%%writefile Nutrition_streamlit_app_final.py\n",
        "\n",
        "import streamlit as st\n",
        "import mysql.connector\n",
        "import pandas as pd\n",
        "import plotly.express as px\n",
        "\n",
        "# ✅ Set page config at the very top (only once)\n",
        "st.set_page_config(page_title=\"Health Nutrition Dashboard\", layout=\"wide\")\n",
        "\n",
        "# Sidebar\n",
        "st.sidebar.image(\"https://encrypted-tbn0.gstatic.com/images?q=tbn:ANd9GcTGS5X0kpv1wGuNck4E3QsFJZY84Ndh4xdbow&s\", width=100)\n",
        "st.sidebar.title(\"🥗 Health Nutrition Dashboard\")\n",
        "\n",
        "# MySQL connection\n",
        "def get_db_connection():\n",
        "    return mysql.connector.connect(\n",
        "        host=\"gateway01.us-east-1.prod.aws.tidbcloud.com\",\n",
        "        port=4000,\n",
        "        user=\"2RF9f3Nuh4kLJBe.root\",\n",
        "        password=\"3nvycLptvyoI59Us\",\n",
        "        database=\"Health_Database\"\n",
        "    )\n",
        "\n",
        "def run_query(query):\n",
        "    conn = get_db_connection()\n",
        "    try:\n",
        "        df = pd.read_sql(query, conn)\n",
        "        return df\n",
        "    except Exception as e:\n",
        "        st.error(f\"Error executing query: {e}\")\n",
        "        return None\n",
        "    finally:\n",
        "        conn.close()\n",
        "\n",
        "# Page Navigation\n",
        "page = st.sidebar.radio(\"Navigate\", [\"Home\", \"Queries\", \"Combined Insights\", \"About\"])\n",
        "\n",
        "# Queries\n",
        "obesity_queries = [\n",
        "    \"Top 5 regions with highest obesity in 2022\",\n",
        "    \"Top 5 countries by max obesity\",\n",
        "    \"Obesity trend in India\",\n",
        "    \"Obesity by gender\",\n",
        "    \"Country count by obesity level & age\",\n",
        "    \"Countries with highest & lowest CI width\",\n",
        "    \"Obesity by age group\",\n",
        "    \"Consistently low obesity countries\",\n",
        "    \"Female obesity much higher than male\",\n",
        "    \"Global yearly average obesity\"\n",
        "]\n",
        "\n",
        "obesity_queries_ans = [\n",
        "    \"SELECT Region, AVG(Mean_Estimate) AS avg_obesity FROM obesity WHERE Year = 2022 GROUP BY Region ORDER BY avg_obesity DESC LIMIT 5;\",\n",
        "    \"SELECT Country, MAX(Mean_Estimate) AS max_obesity FROM obesity GROUP BY Country ORDER BY max_obesity DESC LIMIT 5;\",\n",
        "    \"SELECT Year, Mean_Estimate FROM obesity WHERE Country = 'India' ORDER BY Year;\",\n",
        "    \"SELECT Gender, AVG(Mean_Estimate) AS avg_obesity FROM obesity GROUP BY Gender;\",\n",
        "    \"SELECT Country, age_group, COUNT(*) AS country_count FROM obesity GROUP BY Country, age_group;\",\n",
        "    \"SELECT Country, AVG(CI_Width) AS avg_ci_width FROM obesity GROUP BY Country ORDER BY avg_ci_width ASC LIMIT 5;\",\n",
        "    \"SELECT age_group, AVG(Mean_Estimate) AS avg_obesity FROM obesity GROUP BY age_group;\",\n",
        "    \"SELECT Country, AVG(Mean_Estimate) AS avg_obesity FROM obesity GROUP BY Country ORDER BY avg_obesity ASC LIMIT 10;\",\n",
        "    \"SELECT Year, Country, Mean_Estimate FROM obesity WHERE Gender = 'Female' AND Mean_Estimate > (SELECT MAX(Mean_Estimate) FROM obesity AS m WHERE m.Gender = 'Male' AND m.Year = obesity.Year AND m.Country = obesity.Country);\",\n",
        "    \"SELECT Year, AVG(Mean_Estimate) AS global_avg_obesity FROM obesity GROUP BY Year ORDER BY Year;\"\n",
        "]\n",
        "\n",
        "Malnutrition_Queries = [\n",
        "    \"Avg. malnutrition by age group\",\n",
        "    \"Top 5 countries with highest malnutrition\",\n",
        "    \"Malnutrition trend in Africa\",\n",
        "    \"Gender-based average malnutrition\",\n",
        "    \"CI Width by malnutrition level & age\",\n",
        "    \"Malnutrition trend in India, Nigeria, Brazil\",\n",
        "    \"Regions with lowest malnutrition\",\n",
        "    \"Countries with increasing malnutrition\",\n",
        "    \"Yearly min/max comparison\",\n",
        "    \"High CI width cases\"\n",
        "]\n",
        "\n",
        "Malnutrition_Queries_ans = [\n",
        "    \"SELECT age_group, AVG(Mean_Estimate) AS avg_malnutrition FROM malnutrition GROUP BY age_group;\",\n",
        "    \"SELECT Country, AVG(Mean_Estimate) AS avg_malnutrition FROM malnutrition GROUP BY Country ORDER BY avg_malnutrition DESC LIMIT 5;\",\n",
        "    \"SELECT Year, AVG(Mean_Estimate) AS avg_malnutrition FROM malnutrition WHERE Region = 'Africa' GROUP BY Year;\",\n",
        "    \"SELECT Gender, AVG(Mean_Estimate) AS avg_malnutrition FROM malnutrition GROUP BY Gender;\",\n",
        "    \"SELECT age_group, AVG(CI_Width) AS avg_ci_width FROM malnutrition GROUP BY age_group;\",\n",
        "    \"SELECT Year, Country, AVG(Mean_Estimate) AS avg_malnutrition FROM malnutrition WHERE Country IN ('India', 'Nigeria', 'Brazil') GROUP BY Year, Country;\",\n",
        "    \"SELECT Region, AVG(Mean_Estimate) AS avg_malnutrition FROM malnutrition GROUP BY Region ORDER BY avg_malnutrition ASC LIMIT 5;\",\n",
        "    \"SELECT Country, MIN(Mean_Estimate), MAX(Mean_Estimate) FROM malnutrition GROUP BY Country HAVING MIN(Mean_Estimate) < MAX(Mean_Estimate);\",\n",
        "    \"SELECT Year, MIN(Mean_Estimate), MAX(Mean_Estimate) FROM malnutrition GROUP BY Year;\",\n",
        "    \"SELECT * FROM malnutrition WHERE CI_Width > 5 ORDER BY CI_Width DESC;\"\n",
        "]\n",
        "\n",
        "Combined_queries = [\n",
        "    \"1. Obesity vs malnutrition comparison by country(any 5 countries)\",\n",
        "    \"2. Gender-based disparity in both obesity and malnutrition\",\n",
        "    \"3. Region-wise avg estimates side-by-side(Africa and America)\",\n",
        "    \"4. Countries with obesity up & malnutrition down\",\n",
        "    \"5. Age-wise trend analysis\"\n",
        "]\n",
        "\n",
        "Combined_queries_ans = [\n",
        "    \"SELECT o.Country, AVG(o.Mean_Estimate) AS avg_obesity, AVG(m.Mean_Estimate) AS avg_malnutrition FROM obesity o JOIN malnutrition m ON o.Country = m.Country AND o.Year = m.Year WHERE o.Country IN ('India', 'USA', 'Nigeria', 'Brazil', 'China') GROUP BY o.Country;\",\n",
        "    \"SELECT o.Gender, AVG(o.Mean_Estimate) AS avg_obesity, AVG(m.Mean_Estimate) AS avg_malnutrition FROM obesity o JOIN malnutrition m ON o.Country = m.Country AND o.Year = m.Year GROUP BY o.Gender;\",\n",
        "    \"SELECT o.Region, o.Country, AVG(o.Mean_Estimate) AS avg_obesity, AVG(m.Mean_Estimate) AS avg_malnutrition FROM obesity o JOIN malnutrition m ON o.Country = m.Country AND o.Year = m.Year GROUP BY o.Region, o.Country;\",\n",
        "    \"SELECT o.Country, o.Year, o.Mean_Estimate AS obesity_estimate, m.Mean_Estimate AS malnutrition_estimate FROM obesity o JOIN malnutrition m ON o.Country = m.Country AND o.Year = m.Year;\",\n",
        "    \"SELECT o.age_group, o.Year, o.Mean_Estimate AS obesity_estimate, m.Mean_Estimate AS malnutrition_estimate FROM obesity o JOIN malnutrition m ON o.Country = m.Country AND o.Year = m.Year;\"\n",
        "]\n",
        "\n",
        "# Home Page\n",
        "if page == \"Home\":\n",
        "    col1, col2 = st.columns([2, 1])\n",
        "    with col1:\n",
        "        st.markdown(\"<h1 style='text-align: center;'>🌠 Nutrition Insights Explorer</h1>\", unsafe_allow_html=True)\n",
        "        st.markdown(\"<h3 style='text-align: center;'>Welcome to the Health Nutrition Dashboard</h3>\", unsafe_allow_html=True)\n",
        "\n",
        "        st.markdown(\"\"\"\n",
        "        <div style='padding: 20px; font-size: 18px;'>\n",
        "        <p>Dive into global health trends with interactive insights on <strong>Obesity</strong> and <strong>Malnutrition</strong>.</p>\n",
        "\n",
        "        This dashboard empowers you to:\n",
        "        <ul>\n",
        "          <li>🔍 <strong>Explore</strong> data by region, country, gender, age group, and year</li>\n",
        "          <li>📊 <strong>Compare</strong> trends across populations and time periods</li>\n",
        "          <li>📌 <strong>Run pre-defined queries</strong> for quick statistical summaries</li>\n",
        "          <li>📈 <strong>Visualize</strong> health indicators through intuitive charts and graphs</li>\n",
        "        </ul>\n",
        "\n",
        "        <p>Use the <strong>sidebar</strong> to navigate options and discover insights that matter.</p>\n",
        "        <p><em>Your journey into global nutrition starts here.</em></p>\n",
        "        </div>\n",
        "        \"\"\", unsafe_allow_html=True)\n",
        "    with col2:\n",
        "        st.image(\"https://medicircle.in/uploads/2021/january2021/how-important-is-nutrition-for-health.jpg\")\n",
        "\n",
        "# Queries Page\n",
        "elif page == \"Queries\":\n",
        "    st.header(\"Predefined SQL Queries\")\n",
        "    category = st.radio(\"Choose Query Type\", [\"Obesity Queries\", \"Malnutrition Queries\", \"Combined Queries\"])\n",
        "\n",
        "    if category == \"Obesity Queries\":\n",
        "        desc = st.selectbox(\"Select Query:\", obesity_queries)\n",
        "        query = obesity_queries_ans[obesity_queries.index(desc)]\n",
        "    elif category == \"Malnutrition Queries\":\n",
        "        desc = st.selectbox(\"Select Query:\", Malnutrition_Queries)\n",
        "        query = Malnutrition_Queries_ans[Malnutrition_Queries.index(desc)]\n",
        "    elif category == \"Combined Queries\":\n",
        "        desc = st.selectbox(\"Select Query:\", Combined_queries)\n",
        "        query = Combined_queries_ans[Combined_queries.index(desc)]\n",
        "\n",
        "    if st.button(\"Run Query\"):\n",
        "        df = run_query(query)\n",
        "        if df is not None and not df.empty:\n",
        "            st.subheader(desc)\n",
        "            st.dataframe(df, use_container_width=True)\n",
        "            numeric_cols = df.select_dtypes(include=[\"int64\", \"float64\"]).columns\n",
        "            if len(numeric_cols) > 0:\n",
        "                col = st.selectbox(\"Select column to plot\", numeric_cols)\n",
        "                fig = px.bar(df, x=df.columns[0], y=col, title=\"Visual Representation\")\n",
        "                st.plotly_chart(fig, use_container_width=True)\n",
        "        else:\n",
        "            st.warning(\"No data found or query failed.\")\n",
        "\n",
        "# Combined Insights Page\n",
        "elif page == \"Combined Insights\":\n",
        "    st.header(\"📈 Obesity vs Malnutrition Comparison\")\n",
        "    query = \"\"\"\n",
        "    SELECT o.Country, AVG(o.Mean_Estimate) AS avg_obesity, AVG(m.Mean_Estimate) AS avg_malnutrition\n",
        "    FROM obesity o\n",
        "    JOIN malnutrition m ON o.Country = m.Country AND o.Year = m.Year\n",
        "    GROUP BY o.Country ORDER BY o.Country;\n",
        "    \"\"\"\n",
        "    df = run_query(query)\n",
        "    if df is not None:\n",
        "        st.dataframe(df, use_container_width=True)\n",
        "        fig = px.scatter(df, x=\"avg_obesity\", y=\"avg_malnutrition\", text=\"Country\", title=\"Obesity vs Malnutrition by Country\")\n",
        "        st.plotly_chart(fig, use_container_width=True)\n",
        "\n",
        "# About Page\n",
        "elif page == \"About\":\n",
        "    st.header(\"📚 About This App\")\n",
        "    st.write(\"This dashboard is built using **Streamlit**, **Plotly**, and **MySQL**. It provides interactive visualizations and SQL-powered insights into global **obesity** and **malnutrition** trends.\")\n",
        "    st.write(\"**Data Source**: Health_Database (from TiDB Cloud)\")\n",
        "    st.markdown(\"---\")\n",
        "    st.write(\"Developed by **Arun Kumar**\")\n",
        "    st.caption(\"Thank you for visiting!\")\n",
        "\n",
        "# Footer\n",
        "st.markdown(\"---\")\n",
        "st.caption(\"Developed by Arun Kumar | Powered by GUVI\")\n"
      ],
      "metadata": {
        "id": "u2k2-dY5QtGn",
        "colab": {
          "base_uri": "https://localhost:8080/"
        },
        "outputId": "abe179ad-55be-4144-e27d-610678cce0d4"
      },
      "execution_count": 29,
      "outputs": [
        {
          "output_type": "stream",
          "name": "stdout",
          "text": [
            "Overwriting Nutrition_streamlit_app_final.py\n"
          ]
        }
      ]
    },
    {
      "cell_type": "code",
      "source": [
        "!pip install streamlit streamlit_option_menu  # installing streamlit and streamlit_option_menu packages"
      ],
      "metadata": {
        "collapsed": true,
        "id": "17BCteBdwcO2",
        "outputId": "f0c90e26-706a-4cea-8a5f-ded4a68e502f",
        "colab": {
          "base_uri": "https://localhost:8080/"
        }
      },
      "execution_count": 24,
      "outputs": [
        {
          "output_type": "stream",
          "name": "stdout",
          "text": [
            "Requirement already satisfied: streamlit in /usr/local/lib/python3.11/dist-packages (1.47.1)\n",
            "Requirement already satisfied: streamlit_option_menu in /usr/local/lib/python3.11/dist-packages (0.4.0)\n",
            "Requirement already satisfied: altair<6,>=4.0 in /usr/local/lib/python3.11/dist-packages (from streamlit) (5.5.0)\n",
            "Requirement already satisfied: blinker<2,>=1.5.0 in /usr/local/lib/python3.11/dist-packages (from streamlit) (1.9.0)\n",
            "Requirement already satisfied: cachetools<7,>=4.0 in /usr/local/lib/python3.11/dist-packages (from streamlit) (5.5.2)\n",
            "Requirement already satisfied: click<9,>=7.0 in /usr/local/lib/python3.11/dist-packages (from streamlit) (8.2.1)\n",
            "Requirement already satisfied: numpy<3,>=1.23 in /usr/local/lib/python3.11/dist-packages (from streamlit) (2.0.2)\n",
            "Requirement already satisfied: packaging<26,>=20 in /usr/local/lib/python3.11/dist-packages (from streamlit) (25.0)\n",
            "Requirement already satisfied: pandas<3,>=1.4.0 in /usr/local/lib/python3.11/dist-packages (from streamlit) (2.2.2)\n",
            "Requirement already satisfied: pillow<12,>=7.1.0 in /usr/local/lib/python3.11/dist-packages (from streamlit) (11.3.0)\n",
            "Requirement already satisfied: protobuf<7,>=3.20 in /usr/local/lib/python3.11/dist-packages (from streamlit) (5.29.5)\n",
            "Requirement already satisfied: pyarrow>=7.0 in /usr/local/lib/python3.11/dist-packages (from streamlit) (18.1.0)\n",
            "Requirement already satisfied: requests<3,>=2.27 in /usr/local/lib/python3.11/dist-packages (from streamlit) (2.32.3)\n",
            "Requirement already satisfied: tenacity<10,>=8.1.0 in /usr/local/lib/python3.11/dist-packages (from streamlit) (8.5.0)\n",
            "Requirement already satisfied: toml<2,>=0.10.1 in /usr/local/lib/python3.11/dist-packages (from streamlit) (0.10.2)\n",
            "Requirement already satisfied: typing-extensions<5,>=4.4.0 in /usr/local/lib/python3.11/dist-packages (from streamlit) (4.14.1)\n",
            "Requirement already satisfied: watchdog<7,>=2.1.5 in /usr/local/lib/python3.11/dist-packages (from streamlit) (6.0.0)\n",
            "Requirement already satisfied: gitpython!=3.1.19,<4,>=3.0.7 in /usr/local/lib/python3.11/dist-packages (from streamlit) (3.1.45)\n",
            "Requirement already satisfied: pydeck<1,>=0.8.0b4 in /usr/local/lib/python3.11/dist-packages (from streamlit) (0.9.1)\n",
            "Requirement already satisfied: tornado!=6.5.0,<7,>=6.0.3 in /usr/local/lib/python3.11/dist-packages (from streamlit) (6.4.2)\n",
            "Requirement already satisfied: jinja2 in /usr/local/lib/python3.11/dist-packages (from altair<6,>=4.0->streamlit) (3.1.6)\n",
            "Requirement already satisfied: jsonschema>=3.0 in /usr/local/lib/python3.11/dist-packages (from altair<6,>=4.0->streamlit) (4.25.0)\n",
            "Requirement already satisfied: narwhals>=1.14.2 in /usr/local/lib/python3.11/dist-packages (from altair<6,>=4.0->streamlit) (1.48.1)\n",
            "Requirement already satisfied: gitdb<5,>=4.0.1 in /usr/local/lib/python3.11/dist-packages (from gitpython!=3.1.19,<4,>=3.0.7->streamlit) (4.0.12)\n",
            "Requirement already satisfied: python-dateutil>=2.8.2 in /usr/local/lib/python3.11/dist-packages (from pandas<3,>=1.4.0->streamlit) (2.9.0.post0)\n",
            "Requirement already satisfied: pytz>=2020.1 in /usr/local/lib/python3.11/dist-packages (from pandas<3,>=1.4.0->streamlit) (2025.2)\n",
            "Requirement already satisfied: tzdata>=2022.7 in /usr/local/lib/python3.11/dist-packages (from pandas<3,>=1.4.0->streamlit) (2025.2)\n",
            "Requirement already satisfied: charset-normalizer<4,>=2 in /usr/local/lib/python3.11/dist-packages (from requests<3,>=2.27->streamlit) (3.4.2)\n",
            "Requirement already satisfied: idna<4,>=2.5 in /usr/local/lib/python3.11/dist-packages (from requests<3,>=2.27->streamlit) (3.10)\n",
            "Requirement already satisfied: urllib3<3,>=1.21.1 in /usr/local/lib/python3.11/dist-packages (from requests<3,>=2.27->streamlit) (2.5.0)\n",
            "Requirement already satisfied: certifi>=2017.4.17 in /usr/local/lib/python3.11/dist-packages (from requests<3,>=2.27->streamlit) (2025.7.14)\n",
            "Requirement already satisfied: smmap<6,>=3.0.1 in /usr/local/lib/python3.11/dist-packages (from gitdb<5,>=4.0.1->gitpython!=3.1.19,<4,>=3.0.7->streamlit) (5.0.2)\n",
            "Requirement already satisfied: MarkupSafe>=2.0 in /usr/local/lib/python3.11/dist-packages (from jinja2->altair<6,>=4.0->streamlit) (3.0.2)\n",
            "Requirement already satisfied: attrs>=22.2.0 in /usr/local/lib/python3.11/dist-packages (from jsonschema>=3.0->altair<6,>=4.0->streamlit) (25.3.0)\n",
            "Requirement already satisfied: jsonschema-specifications>=2023.03.6 in /usr/local/lib/python3.11/dist-packages (from jsonschema>=3.0->altair<6,>=4.0->streamlit) (2025.4.1)\n",
            "Requirement already satisfied: referencing>=0.28.4 in /usr/local/lib/python3.11/dist-packages (from jsonschema>=3.0->altair<6,>=4.0->streamlit) (0.36.2)\n",
            "Requirement already satisfied: rpds-py>=0.7.1 in /usr/local/lib/python3.11/dist-packages (from jsonschema>=3.0->altair<6,>=4.0->streamlit) (0.26.0)\n",
            "Requirement already satisfied: six>=1.5 in /usr/local/lib/python3.11/dist-packages (from python-dateutil>=2.8.2->pandas<3,>=1.4.0->streamlit) (1.17.0)\n"
          ]
        }
      ]
    },
    {
      "cell_type": "code",
      "source": [
        "!wget -q -O - ipv4.icanhazip.com"
      ],
      "metadata": {
        "id": "1ANlIWFpwIAK",
        "outputId": "bca74364-aacc-4cff-c929-f4e45e479790",
        "colab": {
          "base_uri": "https://localhost:8080/"
        }
      },
      "execution_count": 25,
      "outputs": [
        {
          "output_type": "stream",
          "name": "stdout",
          "text": [
            "34.73.113.57\n"
          ]
        }
      ]
    },
    {
      "cell_type": "code",
      "source": [
        "!streamlit run Nutrition_streamlit_app_final.py & npx localtunnel --port 8501  # replace the file name accordingly"
      ],
      "metadata": {
        "id": "oPy49Zj8wL6E",
        "outputId": "79562081-e48b-4b5e-8600-563341394dc8",
        "colab": {
          "base_uri": "https://localhost:8080/"
        }
      },
      "execution_count": 30,
      "outputs": [
        {
          "output_type": "stream",
          "name": "stdout",
          "text": [
            "\u001b[1G\u001b[0K⠙\n",
            "Collecting usage statistics. To deactivate, set browser.gatherUsageStats to false.\n",
            "\u001b[0m\n",
            "\u001b[1G\u001b[0K⠹\u001b[1G\u001b[0K⠸\u001b[1G\u001b[0K⠼\u001b[1G\u001b[0K⠴\u001b[0m\n",
            "\u001b[34m\u001b[1m  You can now view your Streamlit app in your browser.\u001b[0m\n",
            "\u001b[0m\n",
            "\u001b[34m  Local URL: \u001b[0m\u001b[1mhttp://localhost:8501\u001b[0m\n",
            "\u001b[34m  Network URL: \u001b[0m\u001b[1mhttp://172.28.0.12:8501\u001b[0m\n",
            "\u001b[34m  External URL: \u001b[0m\u001b[1mhttp://34.73.113.57:8501\u001b[0m\n",
            "\u001b[0m\n",
            "\u001b[1G\u001b[0K⠦\u001b[1G\u001b[0K⠧\u001b[1G\u001b[0K⠇\u001b[1G\u001b[0K⠏\u001b[1G\u001b[0K⠋\u001b[1G\u001b[0K⠙\u001b[1G\u001b[0K⠹\u001b[1G\u001b[0Kyour url is: https://three-phones-shake.loca.lt\n",
            "/content/Nutrition_streamlit_app_final.py:27: UserWarning: pandas only supports SQLAlchemy connectable (engine/connection) or database string URI or sqlite3 DBAPI2 connection. Other DBAPI2 objects are not tested. Please consider using SQLAlchemy.\n",
            "  df = pd.read_sql(query, conn)\n",
            "\u001b[34m  Stopping...\u001b[0m\n",
            "^C\n"
          ]
        }
      ]
    }
  ]
}