{
  "nbformat": 4,
  "nbformat_minor": 0,
  "metadata": {
    "colab": {
      "provenance": [],
      "authorship_tag": "ABX9TyPRx0sRqrvSCAzciMnwNwk5",
      "include_colab_link": true
    },
    "kernelspec": {
      "name": "python3",
      "display_name": "Python 3"
    },
    "language_info": {
      "name": "python"
    }
  },
  "cells": [
    {
      "cell_type": "markdown",
      "metadata": {
        "id": "view-in-github",
        "colab_type": "text"
      },
      "source": [
        "<a href=\"https://colab.research.google.com/github/ArunK-ML/Project---Nutrition-Paradox-A-Global-View-on-Obesity-and-Malnutrition/blob/main/Nutrition_Paradox.ipynb\" target=\"_parent\"><img src=\"https://colab.research.google.com/assets/colab-badge.svg\" alt=\"Open In Colab\"/></a>"
      ]
    },
    {
      "cell_type": "markdown",
      "source": [
        "# **⚖️ Nutrition Paradox: A Global View on Obesity and Malnutrition**"
      ],
      "metadata": {
        "id": "-YBVgU4vCgP9"
      }
    },
    {
      "cell_type": "code",
      "execution_count": 28,
      "metadata": {
        "id": "NilbRFqDCTXd"
      },
      "outputs": [],
      "source": [
        "import requests\n",
        "import pandas as pd\n",
        "\n",
        "url1 = \"https://ghoapi.azureedge.net/api/NCD_BMI_30C\"\n",
        "url2 = \"https://ghoapi.azureedge.net/api/NCD_BMI_PLUS2C\"\n",
        "url3 = \"https://ghoapi.azureedge.net/api/NCD_BMI_18C\"\n",
        "url4 = \"https://ghoapi.azureedge.net/api/NCD_BMI_MINUS2C\"\n",
        "\n",
        "response1 = requests.get(url1)\n",
        "response2 = requests.get(url2)\n",
        "response3 = requests.get(url3)\n",
        "response4 = requests.get(url4)\n",
        "\n",
        "Obesity_adults = response1.json()\n",
        "Obesity_children = response2.json()\n",
        "Malnutrition_adults = response3.json()\n",
        "Malnutrition_children = response4.json()\n",
        "\n",
        "\n",
        "Obesity_adults.keys()\n",
        "\n",
        "# Convert into Dataframe\n",
        "\n",
        "Obesity_adults_df = pd.DataFrame(Obesity_adults[\"value\"])\n",
        "Obesity_children_df = pd.DataFrame(Obesity_children[\"value\"])\n",
        "Malnutrition_adults_df = pd.DataFrame(Malnutrition_adults[\"value\"])\n",
        "Malnutrition_children_df = pd.DataFrame(Malnutrition_children[\"value\"])\n",
        "\n",
        "#Adding Column name \"age_group\"\n",
        "\n",
        "Obesity_adults_df[\"age_group\"] = \"Adult\"\n",
        "Obesity_children_df[\"age_group\"] = \"Child\"\n",
        "Malnutrition_adults_df[\"age_group\"] = \"Adult\"\n",
        "Malnutrition_children_df[\"age_group\"] = \"Child\"\n",
        "\n",
        "# Joining the Datasets\n",
        "\n",
        "df_obesity = pd.concat([Obesity_adults_df, Obesity_children_df], ignore_index=True)\n",
        "\n",
        "df_malnutrition = pd.concat([Malnutrition_adults_df, Malnutrition_children_df], ignore_index=True)\n",
        "\n",
        "# Select particular columns\n",
        "\n",
        "df_obesity_subset = df_obesity[[\"ParentLocationCode\" , \"Dim1\" , \"TimeDim\" , \"Low\" , \"High\" , \"NumericValue\" , \"SpatialDim\" , \"age_group\"]]\n",
        "\n",
        "df_malnutrition_subset = df_malnutrition[[\"ParentLocationCode\" , \"Dim1\" , \"TimeDim\" , \"Low\" , \"High\" , \"NumericValue\" , \"SpatialDim\" , \"age_group\"]]\n",
        "\n",
        "# Columns name correction\n",
        "\n",
        "df_obesity_subset = df_obesity_subset.rename(columns={\n",
        "    \"ParentLocationCode\" : \"Region\",\n",
        "    \"Dim1\" : \"Gender\",\n",
        "    \"TimeDim\" : \"Year\",\n",
        "    \"Low\" : \"LowerBound\",\n",
        "    \"High\" : \"UpperBound\",\n",
        "    \"NumericValue\" : \"Mean_Estimate\",\n",
        "    \"SpatialDim\" : \"Country\"\n",
        "})\n",
        "\n",
        "df_malnutrition_subset = df_malnutrition_subset.rename(columns={\n",
        "    \"ParentLocationCode\" : \"Region\",\n",
        "    \"Dim1\" : \"Gender\",\n",
        "    \"TimeDim\" : \"Year\",\n",
        "    \"Low\" : \"LowerBound\",\n",
        "    \"High\" : \"UpperBound\",\n",
        "    \"NumericValue\" : \"Mean_Estimate\",\n",
        "    \"SpatialDim\" : \"Country\"\n",
        "})\n"
      ]
    },
    {
      "cell_type": "code",
      "source": [
        "df_obesity_subset.info()"
      ],
      "metadata": {
        "colab": {
          "base_uri": "https://localhost:8080/"
        },
        "id": "p3mJsxocvz9P",
        "outputId": "903e141e-4b20-45c2-acdc-f8c394d1e068"
      },
      "execution_count": 29,
      "outputs": [
        {
          "output_type": "stream",
          "name": "stdout",
          "text": [
            "<class 'pandas.core.frame.DataFrame'>\n",
            "RangeIndex: 83160 entries, 0 to 83159\n",
            "Data columns (total 8 columns):\n",
            " #   Column         Non-Null Count  Dtype  \n",
            "---  ------         --------------  -----  \n",
            " 0   Region         78804 non-null  object \n",
            " 1   Gender         83160 non-null  object \n",
            " 2   Year           83160 non-null  int64  \n",
            " 3   LowerBound     83160 non-null  float64\n",
            " 4   UpperBound     83160 non-null  float64\n",
            " 5   Mean_Estimate  83160 non-null  float64\n",
            " 6   Country        83160 non-null  object \n",
            " 7   age_group      83160 non-null  object \n",
            "dtypes: float64(3), int64(1), object(4)\n",
            "memory usage: 5.1+ MB\n"
          ]
        }
      ]
    },
    {
      "cell_type": "code",
      "source": [
        "df_obesity_subset['Gender'] = df_obesity_subset['Gender'].astype('category')\n",
        "df_obesity_subset[\"age_group\"] = df_obesity_subset[\"age_group\"].astype('category')"
      ],
      "metadata": {
        "id": "_IDECAYXx-WV"
      },
      "execution_count": 30,
      "outputs": []
    },
    {
      "cell_type": "code",
      "source": [
        "df_obesity_subset.info()"
      ],
      "metadata": {
        "id": "k7TX6xaoyqEN",
        "outputId": "b3384313-d9f6-4d14-f43a-decabe6ea427",
        "colab": {
          "base_uri": "https://localhost:8080/"
        }
      },
      "execution_count": 31,
      "outputs": [
        {
          "output_type": "stream",
          "name": "stdout",
          "text": [
            "<class 'pandas.core.frame.DataFrame'>\n",
            "RangeIndex: 83160 entries, 0 to 83159\n",
            "Data columns (total 8 columns):\n",
            " #   Column         Non-Null Count  Dtype   \n",
            "---  ------         --------------  -----   \n",
            " 0   Region         78804 non-null  object  \n",
            " 1   Gender         83160 non-null  category\n",
            " 2   Year           83160 non-null  int64   \n",
            " 3   LowerBound     83160 non-null  float64 \n",
            " 4   UpperBound     83160 non-null  float64 \n",
            " 5   Mean_Estimate  83160 non-null  float64 \n",
            " 6   Country        83160 non-null  object  \n",
            " 7   age_group      83160 non-null  category\n",
            "dtypes: category(2), float64(3), int64(1), object(2)\n",
            "memory usage: 4.0+ MB\n"
          ]
        }
      ]
    },
    {
      "cell_type": "code",
      "source": [],
      "metadata": {
        "id": "sI8ELmZIytG0"
      },
      "execution_count": null,
      "outputs": []
    }
  ]
}